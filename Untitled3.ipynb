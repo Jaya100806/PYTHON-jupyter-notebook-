{
 "cells": [
  {
   "cell_type": "code",
   "execution_count": 1,
   "id": "e5d67cf0-dd41-49b4-ad43-e019e1509596",
   "metadata": {},
   "outputs": [
    {
     "name": "stdin",
     "output_type": "stream",
     "text": [
      "enter the side value 5\n"
     ]
    },
    {
     "name": "stdout",
     "output_type": "stream",
     "text": [
      "25\n"
     ]
    }
   ],
   "source": [
    "side=int(input(\"enter the side value\"))\n",
    "print(side*side)"
   ]
  },
  {
   "cell_type": "code",
   "execution_count": 2,
   "id": "b8d3da0a-fa3d-4321-9db8-9f6d017dc38d",
   "metadata": {},
   "outputs": [
    {
     "name": "stdin",
     "output_type": "stream",
     "text": [
      "enter the value of number 45\n"
     ]
    },
    {
     "name": "stdout",
     "output_type": "stream",
     "text": [
      "not divisible by seven\n"
     ]
    }
   ],
   "source": [
    "a=int(input(\"enter the value of number\"))\n",
    "if a%7==0 :\n",
    "   print(\"divisible by seven\")\n",
    "else :\n",
    "   print(\"not divisible by seven\")"
   ]
  },
  {
   "cell_type": "code",
   "execution_count": 3,
   "id": "f39ce05d-5967-460f-8c46-489a8a8d14dd",
   "metadata": {},
   "outputs": [
    {
     "name": "stdin",
     "output_type": "stream",
     "text": [
      "enter the value of number 34\n"
     ]
    },
    {
     "name": "stdout",
     "output_type": "stream",
     "text": [
      "not divisible\n"
     ]
    }
   ],
   "source": [
    "a=int(input(\"enter the value of number\"))\n",
    "if a%5==0 :\n",
    "    if a%7==0:\n",
    "        print(\"divisible\")\n",
    "    else:\n",
    "        print(\"not divisible \")\n",
    "else:\n",
    "    print(\"not divisible\")"
   ]
  },
  {
   "cell_type": "code",
   "execution_count": 4,
   "id": "706c4049-5e97-4f0f-a118-3590eab04804",
   "metadata": {},
   "outputs": [
    {
     "name": "stdin",
     "output_type": "stream",
     "text": [
      "enter the value of number1 43\n",
      "enter the value of number2 45\n"
     ]
    },
    {
     "name": "stdout",
     "output_type": "stream",
     "text": [
      "88\n",
      "-2\n",
      "1935\n",
      "0.9555555555555556\n"
     ]
    }
   ],
   "source": [
    "a=int(input(\"enter the value of number1\"))\n",
    "b=int(input(\"enter the value of number2\"))\n",
    "print(a+b)\n",
    "print(a-b)\n",
    "print(a*b)\n",
    "print(a/b)"
   ]
  },
  {
   "cell_type": "code",
   "execution_count": 5,
   "id": "61e62164-3be2-4a19-916d-3a05ae19d90d",
   "metadata": {},
   "outputs": [
    {
     "name": "stdin",
     "output_type": "stream",
     "text": [
      "enter the value of number1 3\n",
      "enter the value of number2 4\n",
      "enter the value of number3 5\n"
     ]
    },
    {
     "name": "stdout",
     "output_type": "stream",
     "text": [
      "12\n"
     ]
    }
   ],
   "source": [
    "a=int(input(\"enter the value of number1\"))\n",
    "b=int(input(\"enter the value of number2\"))\n",
    "c=int(input(\"enter the value of number3\"))\n",
    "print(a+b+c)"
   ]
  },
  {
   "cell_type": "code",
   "execution_count": 7,
   "id": "1d6ba8fb-5cd4-4f03-9365-376dc39bee7a",
   "metadata": {},
   "outputs": [
    {
     "name": "stdin",
     "output_type": "stream",
     "text": [
      "enter the value of number1 45\n",
      "enter the value of number2 65\n"
     ]
    },
    {
     "name": "stdout",
     "output_type": "stream",
     "text": [
      "220\n"
     ]
    }
   ],
   "source": [
    "a=int(input(\"enter the value of number1\"))\n",
    "b=int(input(\"enter the value of number2\"))\n",
    "print((a+b)*2)"
   ]
  },
  {
   "cell_type": "code",
   "execution_count": 9,
   "id": "12c4f9fc-d1ed-41e1-a0ac-d9638f0327ea",
   "metadata": {},
   "outputs": [
    {
     "name": "stdin",
     "output_type": "stream",
     "text": [
      "enter the value of number 56\n"
     ]
    },
    {
     "name": "stdout",
     "output_type": "stream",
     "text": [
      "9847.04\n"
     ]
    }
   ],
   "source": [
    "a=int(input(\"enter the value of number\"))\n",
    "print(3.14*a*a)"
   ]
  },
  {
   "cell_type": "code",
   "execution_count": 11,
   "id": "b3559e31-d23e-452d-b966-cdda0d5e2dee",
   "metadata": {},
   "outputs": [
    {
     "name": "stdin",
     "output_type": "stream",
     "text": [
      "enter the value of number1 5\n",
      "enter the value of number2 6\n",
      "enter the value of number3 7\n"
     ]
    },
    {
     "name": "stdout",
     "output_type": "stream",
     "text": [
      "-104\n"
     ]
    }
   ],
   "source": [
    "a=int(input(\"enter the value of number1\"))\n",
    "b=int(input(\"enter the value of number2\"))\n",
    "c=int(input(\"enter the value of number3\"))\n",
    "print(b**2-4*a*c)"
   ]
  },
  {
   "cell_type": "code",
   "execution_count": 13,
   "id": "fef36640-2ca2-45e4-941d-77e042ad781c",
   "metadata": {},
   "outputs": [
    {
     "name": "stdin",
     "output_type": "stream",
     "text": [
      "chose a number 1. for Addition, 2. for subtraction, 3. for multiplication and 4. for division 4\n",
      "enter the value of number1 3\n",
      "enter the value of number2  4\n"
     ]
    },
    {
     "name": "stdout",
     "output_type": "stream",
     "text": [
      "0.75\n"
     ]
    }
   ],
   "source": [
    "a=int(input(\"chose a number 1. for Addition, 2. for subtraction, 3. for multiplication and 4. for division\"))\n",
    "\n",
    "if a==1:\n",
    "    b=int(input(\"enter the value of number1\"))\n",
    "    c=int(input(\"enter the value of number2 \"))\n",
    "    print(b+c)\n",
    "elif a==2:\n",
    "    b=int(input(\"enter the value of number1\"))\n",
    "    c=int(input(\"enter the value of number2 \"))\n",
    "    print(b-c)\n",
    "elif a==3:\n",
    "    b=int(input(\"enter the value of number1\"))\n",
    "    c=int(input(\"enter the value of number2 \"))\n",
    "    print(c*b)\n",
    "elif a==4:\n",
    "    b=int(input(\"enter the value of number1\"))\n",
    "    c=int(input(\"enter the value of number2 \"))\n",
    "    print(b/c)\n",
    "else:\n",
    "    print(\"invalid\")"
   ]
  },
  {
   "cell_type": "code",
   "execution_count": 14,
   "id": "426b4907-8118-4cab-b05d-2901430015a1",
   "metadata": {},
   "outputs": [
    {
     "name": "stdin",
     "output_type": "stream",
     "text": [
      "enter the no.of bonus hours worked in a week 4\n",
      "enter the rate per hour 5\n",
      "enter the no.of weeks in a month 6\n"
     ]
    },
    {
     "name": "stdout",
     "output_type": "stream",
     "text": [
      "120\n"
     ]
    }
   ],
   "source": [
    "a=int(input(\"enter the no.of bonus hours worked in a week\"))\n",
    "b=int(input(\"enter the rate per hour\"))\n",
    "c=int(input(\"enter the no.of weeks in a month\"))\n",
    "print(a*b*c)"
   ]
  },
  {
   "cell_type": "code",
   "execution_count": 15,
   "id": "37d38a88-a09f-43b2-a247-618e660b52f4",
   "metadata": {},
   "outputs": [
    {
     "name": "stdin",
     "output_type": "stream",
     "text": [
      "enter the distance between delhi to mumbai 45\n"
     ]
    },
    {
     "name": "stdout",
     "output_type": "stream",
     "text": [
      "total time taken to travel from delhi to mumbai : 0.75\n",
      "total cost of petrol to complete the journey is : 2250.0\n"
     ]
    }
   ],
   "source": [
    "a=float(input(\"enter the distance between delhi to mumbai\"))\n",
    "velocity=60\n",
    "#petrol cost per liter=100\n",
    "b=a/velocity \n",
    "c=a*50 #I took 1 liter of pertol is consumed for 2km\n",
    "print(\"total time taken to travel from delhi to mumbai :\",round(a/velocity,2))\n",
    "print(\"total cost of petrol to complete the journey is :\",c) "
   ]
  },
  {
   "cell_type": "code",
   "execution_count": 17,
   "id": "cff2ec32-ed84-425c-bc73-928049fe36a6",
   "metadata": {},
   "outputs": [
    {
     "name": "stdin",
     "output_type": "stream",
     "text": [
      "enter a string sree\n"
     ]
    },
    {
     "name": "stdout",
     "output_type": "stream",
     "text": [
      "1\n"
     ]
    }
   ],
   "source": [
    "a=str(input(\"enter a string\"))\n",
    "print(a.count(\"s\"))"
   ]
  },
  {
   "cell_type": "code",
   "execution_count": 18,
   "id": "a212bb5d-ddc9-413c-8139-dfbc1e4f1fbb",
   "metadata": {},
   "outputs": [
    {
     "name": "stdin",
     "output_type": "stream",
     "text": [
      "enter the number 1 3\n",
      "enter the number 2 9\n",
      "enter the number 3 5\n"
     ]
    },
    {
     "name": "stdout",
     "output_type": "stream",
     "text": [
      "number 2 is greatetst\n"
     ]
    }
   ],
   "source": [
    "a=int(input(\"enter the number 1\"))\n",
    "b=int(input(\"enter the number 2\"))\n",
    "c=int(input(\"enter the number 3\"))\n",
    "if (a>b and a>c):\n",
    "    print(\" number 1 is greatest\")\n",
    "elif (b>a and b>c):\n",
    "    print(\"number 2 is greatetst\")\n",
    "else:\n",
    "    print(\"number 3 is greatest\") "
   ]
  },
  {
   "cell_type": "code",
   "execution_count": 19,
   "id": "71ce8249-823b-43f9-ba58-203cb516558e",
   "metadata": {},
   "outputs": [
    {
     "data": {
      "text/plain": [
       "3"
      ]
     },
     "execution_count": 19,
     "metadata": {},
     "output_type": "execute_result"
    }
   ],
   "source": [
    "list=[\"c\",\"d\",\"a\",\"a\",\"b\",\"b\",\"a\"]\n",
    "list.count(\"a\")"
   ]
  },
  {
   "cell_type": "code",
   "execution_count": 20,
   "id": "6fa8cd51-3129-4318-8827-4ce6fa7884ac",
   "metadata": {},
   "outputs": [
    {
     "name": "stdout",
     "output_type": "stream",
     "text": [
      "['a', 'a', 'a', 'b', 'b', 'c', 'd']\n"
     ]
    }
   ],
   "source": [
    "list=[\"c\",\"d\",\"a\",\"a\",\"b\",\"b\",\"a\"]\n",
    "list.sort()\n",
    "print(list)"
   ]
  },
  {
   "cell_type": "code",
   "execution_count": 21,
   "id": "52fa7380-3746-4b96-94a8-ad4ed9793098",
   "metadata": {},
   "outputs": [
    {
     "name": "stdin",
     "output_type": "stream",
     "text": [
      "ENTER A NUMBER 45\n"
     ]
    },
    {
     "name": "stdout",
     "output_type": "stream",
     "text": [
      "positive\n"
     ]
    }
   ],
   "source": [
    "a=float(input(\"ENTER A NUMBER\"))\n",
    "if a>0 :\n",
    "    print(\"positive\")\n",
    "else :\n",
    "    print(\"negative\")"
   ]
  },
  {
   "cell_type": "code",
   "execution_count": 22,
   "id": "1732c86e-d88a-4256-b924-0d1477f97c40",
   "metadata": {},
   "outputs": [
    {
     "name": "stdin",
     "output_type": "stream",
     "text": [
      "ENTER YOUR AGE 54\n"
     ]
    },
    {
     "name": "stdout",
     "output_type": "stream",
     "text": [
      "eligible\n"
     ]
    }
   ],
   "source": [
    "a=int(input(\"ENTER YOUR AGE\"))\n",
    "if a>=18 :\n",
    "    print(\"eligible\")\n",
    "else :\n",
    "    print(\"not eligible\")"
   ]
  },
  {
   "cell_type": "markdown",
   "id": "9d4c9dd0-5788-44e4-ac49-5218773a6002",
   "metadata": {
    "jp-MarkdownHeadingCollapsed": true
   },
   "source": [
    "a=input(\"ENTER A CHARECTER\")\n",
    "if (a=='a' or a=='e' or a=='i' or a=='o' or a=='u'):\n",
    "    print(\"5 points\")\n",
    "elif a.isdigit() :\n",
    "    print(\"10 points\")\n",
    "else :\n",
    "    print(\"0 points\")"
   ]
  },
  {
   "cell_type": "code",
   "execution_count": 23,
   "id": "185a3353-7198-4fd2-94ad-80cb2b092656",
   "metadata": {},
   "outputs": [
    {
     "name": "stdin",
     "output_type": "stream",
     "text": [
      "enter a string python\n"
     ]
    },
    {
     "name": "stdout",
     "output_type": "stream",
     "text": [
      "hello\n"
     ]
    }
   ],
   "source": [
    "a=str(input(\"enter a string\"))\n",
    "if a.isupper() :\n",
    "    print(\"hi\")\n",
    "else :\n",
    "    print(\"hello\")"
   ]
  },
  {
   "cell_type": "code",
   "execution_count": 24,
   "id": "1fc763ae-8d49-4a79-adf5-dfda951ff87d",
   "metadata": {},
   "outputs": [
    {
     "name": "stdin",
     "output_type": "stream",
     "text": [
      "ENTER YOUR WEIGHT IN Kg 34\n",
      "ENTER YOUR HEIGHT IN M 4.3\n"
     ]
    },
    {
     "name": "stdout",
     "output_type": "stream",
     "text": [
      "1.84\n",
      "underweight\n"
     ]
    }
   ],
   "source": [
    "a=float(input(\"ENTER YOUR WEIGHT IN Kg\"))\n",
    "height=float(input(\"ENTER YOUR HEIGHT IN M\"))\n",
    "BMI=a/height**2\n",
    "print(round(BMI,2))\n",
    "if BMI<18.5 :\n",
    "    print(\"underweight\")\n",
    "elif BMI>18.5 and BMI<24.9 :\n",
    "    print(\"normal weight\")\n",
    "else :\n",
    "    print(\"overweight\")"
   ]
  },
  {
   "cell_type": "code",
   "execution_count": 25,
   "id": "e5395538-5e97-481a-b035-e3ac916210f4",
   "metadata": {},
   "outputs": [
    {
     "name": "stdin",
     "output_type": "stream",
     "text": [
      "1:add,2:sub,3:mul,4:div 2\n",
      "enter first num 1\n",
      "enter second num 2\n"
     ]
    },
    {
     "name": "stdout",
     "output_type": "stream",
     "text": [
      "-1\n",
      "2\n"
     ]
    }
   ],
   "source": [
    "operation=int(input(\"1:add,2:sub,3:mul,4:div\"))\n",
    "a=int(input(\"enter first num\"))\n",
    "b=int(input(\"enter second num\"))\n",
    "match operation:\n",
    "     case 1:\n",
    "         print(a+b)\n",
    "     case 2:\n",
    "         print(a-b)\n",
    "     case 3:\n",
    "         print(a*b)\n",
    "     case default:\n",
    "         print()\n",
    "print(operation)"
   ]
  },
  {
   "cell_type": "code",
   "execution_count": 26,
   "id": "b5ee9014-6185-4c54-8db0-c96371e701ed",
   "metadata": {},
   "outputs": [
    {
     "name": "stdin",
     "output_type": "stream",
     "text": [
      "ENTER THE YEAR 2024\n"
     ]
    },
    {
     "name": "stdout",
     "output_type": "stream",
     "text": [
      "leap year\n"
     ]
    }
   ],
   "source": [
    "a=int(input(\"ENTER THE YEAR\"))\n",
    "if a%4==0 :\n",
    "    print(\"leap year\")\n",
    "else :\n",
    "    print(\"not a leap year\")"
   ]
  },
  {
   "cell_type": "code",
   "execution_count": 27,
   "id": "cb59e78b-d359-4601-bb82-a608232135bf",
   "metadata": {},
   "outputs": [
    {
     "name": "stdout",
     "output_type": "stream",
     "text": [
      "1\n",
      "3\n",
      "5\n",
      "7\n",
      "9\n"
     ]
    }
   ],
   "source": [
    "n=1\n",
    "while n<=10 :\n",
    "   print(n)\n",
    "   n=n+2"
   ]
  },
  {
   "cell_type": "code",
   "execution_count": 30,
   "id": "76289dd0-baff-42d9-946b-a7c2d7fb0816",
   "metadata": {},
   "outputs": [
    {
     "name": "stdout",
     "output_type": "stream",
     "text": [
      "[0, 0, 0]\n",
      "[0, 1, 2]\n",
      "[0, 2, 4]\n",
      "[0, 3, 6]\n",
      "\n",
      "[0, 1, 2]\n",
      "[1, 2, 3]\n",
      "[2, 3, 4]\n",
      "[3, 4, 5]\n",
      "\n"
     ]
    }
   ],
   "source": [
    "rows = 4\n",
    "cols = 3\n",
    "matrix1 = []\n",
    "for i in range(rows):\n",
    "    row = []\n",
    "    for j in range(cols):\n",
    "        row.append(i * j)\n",
    "    matrix1.append(row)\n",
    "for row in matrix1:\n",
    "    print(row)\n",
    "print()\n",
    "matrix2 = []\n",
    "for i in range(rows):\n",
    "    row = []\n",
    "    for j in range(cols):\n",
    "        row.append(i + j)\n",
    "    matrix2.append(row)\n",
    "for row in matrix2:\n",
    "    print(row)\n",
    "print()"
   ]
  },
  {
   "cell_type": "code",
   "execution_count": 31,
   "id": "5813b149-c8d4-4903-95c0-7b06931d67d3",
   "metadata": {},
   "outputs": [
    {
     "name": "stdout",
     "output_type": "stream",
     "text": [
      "[[0, 1, 2, 3], [1, 2, 3, 4], [2, 3, 4, 5]]\n"
     ]
    }
   ],
   "source": [
    "rows = 3\n",
    "cols = 4\n",
    "matrix1 = []\n",
    "for i in range(rows):\n",
    "    row = []\n",
    "    for j in range(cols):\n",
    "        row.append(i + j)\n",
    "    matrix1.append(row)\n",
    "print(matrix1)"
   ]
  },
  {
   "cell_type": "code",
   "execution_count": 34,
   "id": "ed39e20f-3eeb-45af-b2fe-537b4e40dfa1",
   "metadata": {},
   "outputs": [
    {
     "name": "stdout",
     "output_type": "stream",
     "text": [
      "1\n",
      "22\n",
      "333\n",
      "4444\n"
     ]
    }
   ],
   "source": [
    "for i in range(1,5):\n",
    "    for j in range(0,i):\n",
    "        print(i,end=\"\")\n",
    "    i=i+1\n",
    "    print()"
   ]
  },
  {
   "cell_type": "code",
   "execution_count": 37,
   "id": "c272fbfa-57e3-41e6-92c0-f4337c8dc63f",
   "metadata": {},
   "outputs": [
    {
     "name": "stdout",
     "output_type": "stream",
     "text": [
      "11111\n",
      "2222\n",
      "333\n",
      "44\n",
      "5\n"
     ]
    }
   ],
   "source": [
    "for i in range(1,6):\n",
    "    for j in range(i,6):\n",
    "        print(i,end=\"\")\n",
    "    i=i+1\n",
    "    print()"
   ]
  },
  {
   "cell_type": "code",
   "execution_count": 38,
   "id": "b4546985-f449-40ad-9c84-6a4fd1a89968",
   "metadata": {},
   "outputs": [
    {
     "name": "stdout",
     "output_type": "stream",
     "text": [
      "5 5 5 5 5 \n",
      "4 4 4 4 \n",
      "3 3 3 \n",
      "2 2 \n",
      "1 \n"
     ]
    }
   ],
   "source": [
    "for i in range(0,5):\n",
    "    for j in range(5,i,-1):\n",
    "        print(5-i,end=\" \")\n",
    "    i=i+1\n",
    "    print()"
   ]
  },
  {
   "cell_type": "code",
   "execution_count": 39,
   "id": "5ac2adc5-5e4c-4959-9c31-75357ed62a86",
   "metadata": {},
   "outputs": [
    {
     "name": "stdout",
     "output_type": "stream",
     "text": [
      "0 1 2 3 4 5 \n",
      "0 1 2 3 4 \n",
      "0 1 2 3 \n",
      "0 1 2 \n",
      "0 1 \n",
      "0 \n"
     ]
    }
   ],
   "source": [
    "for i in range(0,6):\n",
    "    for j in range(6,i,-1):\n",
    "        print((5-j)+1,end=\" \")\n",
    "    i=i+1\n",
    "    print()"
   ]
  },
  {
   "cell_type": "code",
   "execution_count": 40,
   "id": "2e3b12e4-17f1-42d4-bb28-c47e40a5dc6f",
   "metadata": {},
   "outputs": [
    {
     "name": "stdout",
     "output_type": "stream",
     "text": [
      "          1 \n",
      "        1 2 \n",
      "      1 2 3 \n",
      "    1 2 3 4 \n",
      "  1 2 3 4 5 \n"
     ]
    }
   ],
   "source": [
    "for i in range(1,6):\n",
    "    for j in range(i,6):\n",
    "        print(\" \",end=\" \")\n",
    "    for j in range(1,i+1):\n",
    "        print(j,end=\" \")\n",
    "    i=i+1\n",
    "    print()"
   ]
  },
  {
   "cell_type": "code",
   "execution_count": 41,
   "id": "4aafe08e-5594-4b74-9d81-76a8bc39bcb5",
   "metadata": {},
   "outputs": [
    {
     "name": "stdout",
     "output_type": "stream",
     "text": [
      "5 5 5 5 5 \n",
      "5 5 5 5 \n",
      "5 5 5 \n",
      "5 5 \n",
      "5 \n"
     ]
    }
   ],
   "source": [
    "for i in range(0,5):\n",
    "    for j in range(5,i,-1):\n",
    "        print(5,end=\" \")\n",
    "    i=i+1\n",
    "    print()"
   ]
  },
  {
   "cell_type": "code",
   "execution_count": 44,
   "id": "bc97f84d-2bcf-48c1-bbd3-23a9e77f8078",
   "metadata": {},
   "outputs": [
    {
     "name": "stdout",
     "output_type": "stream",
     "text": [
      "[[2, 3, 4], [3, 3, 3], [5, 6, 7]]\n"
     ]
    }
   ],
   "source": [
    "matrix1=[[1,2,3],[1,1,1],[2,3,4]]\n",
    "matrix2=[[1,1,1],[2,2,2],[3,3,3]]\n",
    "result=[[0,0,0],[0,0,0],[0,0,0]]\n",
    "for i in range(len(matrix1)):\n",
    "    for j in range(len(matrix2)):\n",
    "        result[i][j]=matrix1[i][j]+matrix2[i][j]\n",
    "print(result)"
   ]
  },
  {
   "cell_type": "code",
   "execution_count": 45,
   "id": "f5b6522a-45b9-4494-b1c4-39b17936913d",
   "metadata": {},
   "outputs": [
    {
     "name": "stdout",
     "output_type": "stream",
     "text": [
      "*\n",
      "***\n",
      "*****\n",
      "*******\n",
      "*********\n"
     ]
    }
   ],
   "source": [
    "for i in range(1,6):\n",
    "    print(''*(n-1)+'*'*(2*i-1))"
   ]
  },
  {
   "cell_type": "code",
   "execution_count": 47,
   "id": "dda538f8-4003-4f03-b093-62b9eca97882",
   "metadata": {},
   "outputs": [
    {
     "name": "stdout",
     "output_type": "stream",
     "text": [
      "*****\n",
      "*****\n",
      "*****\n",
      "*****\n",
      "*****\n"
     ]
    }
   ],
   "source": [
    "n=5\n",
    "for i in range(n):\n",
    "    for j in range(n):\n",
    "        print(\"*\",end='')\n",
    "    print()"
   ]
  },
  {
   "cell_type": "code",
   "execution_count": 48,
   "id": "83534ba8-202d-4212-a763-6a17b1a59afe",
   "metadata": {},
   "outputs": [
    {
     "name": "stdout",
     "output_type": "stream",
     "text": [
      "[0, 1, 4, 9, 16, 25, 36, 49, 64, 81]\n"
     ]
    }
   ],
   "source": [
    "squares=[x**2 for x in range(10)]\n",
    "print(squares)"
   ]
  },
  {
   "cell_type": "code",
   "execution_count": 49,
   "id": "fa490ef7-cee9-45d5-acc2-74efaddc7b5d",
   "metadata": {},
   "outputs": [
    {
     "name": "stdout",
     "output_type": "stream",
     "text": [
      "sciencedataisdatafun\n",
      "sdatacdataidataedatandatacdatae\n"
     ]
    }
   ],
   "source": [
    "import string\n",
    "input=\"Hello, world!\"\n",
    "new=\"data\".join([\"science\",\"is\",\"fun\"])\n",
    "print(new)\n",
    "new1=\"data\".join(\"science\")\n",
    "print(new1)"
   ]
  },
  {
   "cell_type": "code",
   "execution_count": 50,
   "id": "63772e14-fa98-4fb1-bb38-157df3a25afa",
   "metadata": {},
   "outputs": [
    {
     "name": "stdout",
     "output_type": "stream",
     "text": [
      "7\n"
     ]
    }
   ],
   "source": [
    "string='hello world'\n",
    "last=string.rfind('o')\n",
    "print(last)"
   ]
  },
  {
   "cell_type": "code",
   "execution_count": 51,
   "id": "febcd17e-e92d-4c7d-bbd1-c0913d18d964",
   "metadata": {},
   "outputs": [
    {
     "name": "stdout",
     "output_type": "stream",
     "text": [
      "apple\n",
      "5\n",
      "['apple', 5]\n"
     ]
    }
   ],
   "source": [
    "string=[\"apple\",5]\n",
    "print(string[0])\n",
    "print(string[1])\n",
    "print(string)"
   ]
  },
  {
   "cell_type": "code",
   "execution_count": 52,
   "id": "53c12e4d-9dd3-4e9b-baba-4f971f735731",
   "metadata": {},
   "outputs": [
    {
     "data": {
      "text/plain": [
       "120"
      ]
     },
     "execution_count": 52,
     "metadata": {},
     "output_type": "execute_result"
    }
   ],
   "source": [
    "def factorial(n):\n",
    "    if n == 0 or n == 1: \n",
    "        return 1\n",
    "    else:\n",
    "        return n * factorial(n - 1)\n",
    "factorial(5)"
   ]
  },
  {
   "cell_type": "code",
   "execution_count": null,
   "id": "72126a5d-cd92-47db-b2b2-fbcbc14ac176",
   "metadata": {},
   "outputs": [],
   "source": [
    "def fibonacci(n):\n",
    "    if n<=1:\n",
    "        return n\n",
    "    else:\n",
    "        return fibonacci(n-1)+fibonacci(n-2)\n",
    "fibonacci(6)\n"
   ]
  },
  {
   "cell_type": "code",
   "execution_count": null,
   "id": "c96aeb2a-0cd2-4908-8100-9820f01c5d43",
   "metadata": {},
   "outputs": [],
   "source": [
    "def sum_naturalnumber(n):\n",
    "    if n==1:\n",
    "        return 1\n",
    "    else:\n",
    "        return n+sum_naturalnumber(n-1)\n",
    "print(sum_naturalnumber(5))"
   ]
  },
  {
   "cell_type": "code",
   "execution_count": null,
   "id": "7e32fa8e-9ae1-4e8e-a85c-badab2e97d27",
   "metadata": {},
   "outputs": [],
   "source": [
    "def power(x,y):\n",
    "    if y==0:\n",
    "        return 1\n",
    "    return x*power(x,y-1)\n",
    "power(3,4)"
   ]
  },
  {
   "cell_type": "code",
   "execution_count": null,
   "id": "a288a9be-97ca-470a-8823-b2d21bf8cd8d",
   "metadata": {},
   "outputs": [],
   "source": [
    "def decimal_to_binary(n):\n",
    "    if n == 0:\n",
    "        return \"\"\n",
    "    return decimal_to_binary(n // 2) + str(n % 2)\n",
    "print(decimal_to_binary(10)) "
   ]
  },
  {
   "cell_type": "code",
   "execution_count": null,
   "id": "bd4353a7-06b0-4b84-930f-6828580adfec",
   "metadata": {},
   "outputs": [],
   "source": [
    "def reverse_string(s):\n",
    "    if len(s) == 0:\n",
    "        return \"\"\n",
    "    return s[-1] + reverse_string(s[:-1])\n",
    "print(reverse_string(\"hello\"))"
   ]
  },
  {
   "cell_type": "code",
   "execution_count": null,
   "id": "153e2e0d-86fe-44c4-9d0b-5c45e0d569ec",
   "metadata": {},
   "outputs": [],
   "source": [
    "def product_of_array(arr, n):\n",
    "    if n == 0:\n",
    "        return arr[0]\n",
    "    return arr[n] * product_of_array(arr, n - 1)\n",
    "print(product_of_array([1, 2, 3, 4], 3))"
   ]
  },
  {
   "cell_type": "code",
   "execution_count": null,
   "id": "cbdb3c61-02e3-42f9-8e43-70190f1b9737",
   "metadata": {},
   "outputs": [],
   "source": [
    "pos=-1\n",
    "def search(list,n) :\n",
    "    i=0\n",
    "    while i<len(list):\n",
    "        if list[i]==n:\n",
    "            globals()['pos']=i\n",
    "            return True\n",
    "        i=i+1\n",
    "    return False\n",
    "list=[5,8,4,6,9,2]\n",
    "n=5\n",
    "if search(list,n):\n",
    "    print(\"Found at\",pos+1)\n",
    "else:\n",
    "    print(\"not found\")"
   ]
  },
  {
   "cell_type": "code",
   "execution_count": null,
   "id": "d31a2a17-60c8-4930-9b0e-20ac323efc89",
   "metadata": {},
   "outputs": [],
   "source": [
    "def binarysearch(array,x,low,high):\n",
    "    while low<=high:\n",
    "        mid=low+(high-low)//2\n",
    "        if x==array[mid]:\n",
    "            return mid\n",
    "        elif x>array[mid]:\n",
    "            low=mid+1\n",
    "        else:\n",
    "            high=mid-1\n",
    "    return -1\n",
    "array=[3,4,5,6,7,8,9]\n",
    "x=4\n",
    "binarysearch(array,x,0,6)"
   ]
  },
  {
   "cell_type": "code",
   "execution_count": null,
   "id": "3959f743-2403-4108-ae0a-552006523450",
   "metadata": {},
   "outputs": [],
   "source": [
    "#insertion sort\n",
    "def insertionSort(arr):\n",
    "    n=len(arr)\n",
    "    if n<=1:\n",
    "        return\n",
    "    for i in range(1,n):\n",
    "         key=arr[i]\n",
    "         j=i-1\n",
    "         while j>=0 and key<arr[j]:\n",
    "             arr[j+1]=arr[j]\n",
    "             j-=1\n",
    "         arr[j+1]=key\n",
    "arr=[40,20,60,10,50,30]\n",
    "insertionSort(arr)\n",
    "print(arr)"
   ]
  }
 ],
 "metadata": {
  "kernelspec": {
   "display_name": "Python 3 (ipykernel)",
   "language": "python",
   "name": "python3"
  },
  "language_info": {
   "codemirror_mode": {
    "name": "ipython",
    "version": 3
   },
   "file_extension": ".py",
   "mimetype": "text/x-python",
   "name": "python",
   "nbconvert_exporter": "python",
   "pygments_lexer": "ipython3",
   "version": "3.12.4"
  }
 },
 "nbformat": 4,
 "nbformat_minor": 5
}
